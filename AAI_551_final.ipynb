{
  "cells": [
    {
      "cell_type": "markdown",
      "source": [
        "Name : Brinda Nathvani , CWID - (20011268)\n",
        "\n",
        "Name : Saumil Trivedi  , CWID - (20011349) \n"
      ],
      "metadata": {
        "id": "5Tsa68uLOlqV"
      }
    },
    {
      "cell_type": "markdown",
      "metadata": {
        "id": "PlY7buQzfAl5"
      },
      "source": [
        "## Introduction:\n",
        "\n",
        "1. In this project, we build Convolutional Neural Network to classify CIFAR-10 Images.\n",
        "2. We can directly load dataset from many deep learning packages.\n",
        "3. We can use any deep learning packages such as pytorch, keras or tensorflow for this project."
      ]
    },
    {
      "cell_type": "markdown",
      "metadata": {
        "id": "gs18vBhUfAl6"
      },
      "source": [
        "## Requirements:\n",
        "\n",
        "1. We need to load cifar 10 data and split the entire training dataset into training and validation.\n",
        "2. We will implement a CNN model to classify cifar 10 images with provided structure.\n",
        "3. We need to plot the training and validation accuracy or loss obtained from above step.\n",
        "4. Then we can use tuned hyper-parameters to train using the entire training dataset.\n",
        "5. We should report the testing accuracy using the model with complete data.\n",
        "6. We may try to change the structure (e.g, add BN layer or dropout layer,...) and analyze your findings.\n",
        "\n",
        "## Google Colab\n",
        "\n",
        "- If you do not have GPU, the training of a CNN can be slow. Google Colab is a good option."
      ]
    },
    {
      "cell_type": "markdown",
      "metadata": {
        "id": "srjhuGB4fAl6"
      },
      "source": [
        "## Batch Normalization (BN)"
      ]
    },
    {
      "cell_type": "markdown",
      "metadata": {
        "id": "JKFPUapRfAl7"
      },
      "source": [
        "### Background:"
      ]
    },
    {
      "cell_type": "markdown",
      "metadata": {
        "id": "H_p_bjkofAl7"
      },
      "source": [
        "- Batch Normalization is a technique to speed up training and help make the model more stable.\n",
        "- In simple words, batch normalization is just another network layer that gets inserted between a hidden layer and the next hidden layer. Its job is to take the outputs from the first hidden layer and normalize them before passing them on as the input of the next hidden layer.\n",
        "\n",
        "- For more detailed information, you may refer to the original paper: https://arxiv.org/pdf/1502.03167.pdf."
      ]
    },
    {
      "cell_type": "markdown",
      "metadata": {
        "id": "XM9lGgudfAl7"
      },
      "source": [
        "### BN Algorithm:"
      ]
    },
    {
      "cell_type": "markdown",
      "metadata": {
        "id": "GAyqZ59rfAl8"
      },
      "source": [
        "- Input: Values of $x$ over a mini-batch: $\\mathbf{B}$ = $\\{x_1,..., x_m\\};$\n",
        "- Output: $\\{y_i = BN_{\\gamma,\\beta}(x_i)\\}$, $\\gamma, \\beta$ are learnable parameters\n",
        "\n",
        "Normalization of the Input:\n",
        "$$\\mu_{\\mathbf{B}} = \\frac{1}{m}\\sum_{i=1}^m x_i$$\n",
        "$$\\sigma_{\\mathbf{B}}^2 = \\frac{1}{m}\\sum_{i=1}^m (x_i - \\mu_{\\mathbf{B}})^2$$\n",
        "$$\\hat{x_i} = \\frac{x_i - \\mu_{\\mathbf{B}}}{\\sqrt{\\sigma_{\\mathbf{B}}}^2 + \\epsilon}$$\n",
        "Re-scaling and Offsetting:\n",
        "$$y_i = \\gamma \\hat{x_i} + \\beta = BN_{\\gamma,\\beta}(x_i)$$\n"
      ]
    },
    {
      "cell_type": "markdown",
      "metadata": {
        "id": "JPzfSTzCfAl8"
      },
      "source": [
        "### Advantages of BN:\n",
        "1. Improves gradient flow through the network.\n",
        "2. Allows use of saturating nonlinearities and higher learning rates.\n",
        "3. Makes weights easier to initialize.\n",
        "4. Act as a form of regularization and may reduce the need for dropout."
      ]
    },
    {
      "cell_type": "markdown",
      "metadata": {
        "id": "Z-2xom98fAl8"
      },
      "source": [
        "### Implementation:"
      ]
    },
    {
      "cell_type": "markdown",
      "metadata": {
        "id": "agKVkiY9fAl9"
      },
      "source": [
        "- The batch normalization layer has already been implemented in many packages. You may simply call the function to build the layer. For example: torch.nn.BatchNorm2d() using pytroch package, keras.layers.BatchNormalization() using keras package.\n",
        "- The location of BN layer: Please make sure ```BatchNormalization``` is between a ```Conv```/```Dense``` layer and an ```activation``` layer."
      ]
    },
    {
      "cell_type": "markdown",
      "metadata": {
        "id": "Jy7nK6tyfAl9"
      },
      "source": [
        "## 1. Data preparation"
      ]
    },
    {
      "cell_type": "markdown",
      "metadata": {
        "id": "zKptVI5tfAl9"
      },
      "source": [
        "### 1.1. Load data\n"
      ]
    },
    {
      "cell_type": "code",
      "execution_count": null,
      "metadata": {
        "colab": {
          "base_uri": "https://localhost:8080/"
        },
        "id": "F1ilutzGfAl_",
        "outputId": "dbd67927-4a4e-444e-9e8c-ca71cea36d67"
      },
      "outputs": [
        {
          "name": "stdout",
          "output_type": "stream",
          "text": [
            "shape of x_train: (50000, 32, 32, 3)\n",
            "shape of y_train: (50000, 1)\n",
            "shape of x_test: (10000, 32, 32, 3)\n",
            "shape of y_test: (10000, 1)\n",
            "number of classes: 10\n"
          ]
        }
      ],
      "source": [
        "# Load Cifar-10 Data\n",
        "# This is just an example, you may load dataset from other packages.\n",
        "import keras\n",
        "import numpy as np\n",
        "import tensorflow.keras\n",
        "\n",
        "### If you can not load keras dataset, un-comment these two lines.\n",
        "#import ssl\n",
        "#ssl._create_default_https_context = ssl._create_unverified_context\n",
        "\n",
        "(x_train, y_train), (x_test, y_test) = keras.datasets.cifar10.load_data()\n",
        "\n",
        "print('shape of x_train: ' + str(x_train.shape))\n",
        "print('shape of y_train: ' + str(y_train.shape))\n",
        "print('shape of x_test: ' + str(x_test.shape))\n",
        "print('shape of y_test: ' + str(y_test.shape))\n",
        "print('number of classes: ' + str(np.max(y_train) - np.min(y_train) + 1))"
      ]
    },
    {
      "cell_type": "markdown",
      "metadata": {
        "id": "fh37GnCffAmA"
      },
      "source": [
        "### 1.2. One-hot encode the labels (5 points)\n",
        "\n",
        "In the input, a label is a scalar in $\\{0, 1, \\cdots , 9\\}$. One-hot encode transform such a scalar to a $10$-dim vector. E.g., a scalar ```y_train[j]=3``` is transformed to the vector ```y_train_vec[j]=[0, 0, 0, 1, 0, 0, 0, 0, 0, 0]```.\n",
        "\n",
        "1. Implement a function ```to_one_hot``` that transforms an $n\\times 1$ array to a $n\\times 10$ matrix.\n",
        "\n",
        "2. Apply the function to ```y_train``` and ```y_test```."
      ]
    },
    {
      "cell_type": "markdown",
      "source": [],
      "metadata": {
        "id": "pvy_xgYkOeqq"
      }
    },
    {
      "cell_type": "code",
      "execution_count": null,
      "metadata": {
        "colab": {
          "base_uri": "https://localhost:8080/"
        },
        "id": "dhjiFC6pfAmA",
        "outputId": "2b4b840e-eb6d-4eda-fa60-797783c5f6be"
      },
      "outputs": [
        {
          "name": "stdout",
          "output_type": "stream",
          "text": [
            "Shape of y_train_vec: (50000, 10)\n",
            "Shape of y_test_vec: (10000, 10)\n",
            "[6]\n",
            "[0. 0. 0. 0. 0. 0. 1. 0. 0. 0.]\n"
          ]
        }
      ],
      "source": [
        "def to_one_hot(y, num_class=10):\n",
        "    y_new = []\n",
        "    for val in y:\n",
        "        tempArr = np.zeros(num_class)\n",
        "        tempArr[val] = 1\n",
        "        y_new.append(tempArr)\n",
        "    \n",
        "    return np.asarray(y_new)\n",
        "    pass\n",
        "    \n",
        "x_train, x_test = x_train.astype('float32') / 255, x_test.astype('float32') / 255\n",
        "y_train_vec = to_one_hot(y_train)\n",
        "y_test_vec = to_one_hot(y_test)\n",
        "\n",
        "print('Shape of y_train_vec: ' + str(y_train_vec.shape))\n",
        "print('Shape of y_test_vec: ' + str(y_test_vec.shape))\n",
        "\n",
        "print(y_train[0])\n",
        "print(y_train_vec[0])"
      ]
    },
    {
      "cell_type": "markdown",
      "metadata": {
        "id": "rL1hRUW_fAmA"
      },
      "source": [
        "#### Remark: the outputs should be\n",
        "* Shape of y_train_vec: (50000, 10)\n",
        "* Shape of y_test_vec: (10000, 10)\n",
        "* [6]\n",
        "* [0. 0. 0. 0. 0. 0. 1. 0. 0. 0.]"
      ]
    },
    {
      "cell_type": "markdown",
      "metadata": {
        "id": "y7sANFI-fAmA"
      },
      "source": [
        "### 1.3. Randomly partition the training set to training and validation sets (5 points)\n",
        "\n",
        "Randomly partition the 50K training samples to 2 sets: \n",
        "* a training set containing 40K samples: x_tr, y_tr\n",
        "* a validation set containing 10K samples: x_val, y_val\n"
      ]
    },
    {
      "cell_type": "code",
      "execution_count": null,
      "metadata": {
        "colab": {
          "base_uri": "https://localhost:8080/"
        },
        "id": "lQhnZ722fAmB",
        "outputId": "c2724b65-c8d8-42a6-b70c-c29a7527f296"
      },
      "outputs": [
        {
          "name": "stdout",
          "output_type": "stream",
          "text": [
            "Shape of x_tr: (40000, 32, 32, 3)\n",
            "Shape of y_tr: (40000, 10)\n",
            "Shape of x_val: (10000, 32, 32, 3)\n",
            "Shape of y_val: (10000, 10)\n"
          ]
        }
      ],
      "source": [
        "from sklearn.model_selection import train_test_split\n",
        "\n",
        "x_tr, x_val, y_tr, y_val = train_test_split(x_train,y_train_vec,test_size=0.2,shuffle=True)\n",
        "\n",
        "print('Shape of x_tr: ' + str(x_tr.shape))\n",
        "print('Shape of y_tr: ' + str(y_tr.shape))\n",
        "print('Shape of x_val: ' + str(x_val.shape))\n",
        "print('Shape of y_val: ' + str(y_val.shape))"
      ]
    },
    {
      "cell_type": "markdown",
      "metadata": {
        "id": "U3riAJLhfAmB"
      },
      "source": [
        "## 2. Build a CNN and tune its hyper-parameters (50 points)\n",
        "\n",
        "- Build a convolutional neural network model using the below structure:\n",
        "\n",
        "- It should have a structure of: Conv - ReLU - Max Pool - ConV - ReLU - Max Pool - Dense - ReLU - Dense - Softmax\n",
        "\n",
        "- In the graph 3@32x32 means the dimension of input image, 32@30x30 means it has 32 filters and the dimension now becomes 30x30 after the convolution.\n",
        "- All convolutional layers (Conv) should have stride = 1 and no padding.\n",
        "- Max Pooling has a pool size of 2 by 2.\n",
        "\n",
        "\n"
      ]
    },
    {
      "cell_type": "markdown",
      "metadata": {
        "id": "tWATomN7fAmB"
      },
      "source": [
        "<img src=\"network.PNG\"/>"
      ]
    },
    {
      "cell_type": "markdown",
      "metadata": {
        "id": "8MZphvaYfAmC"
      },
      "source": [
        "- You may use the validation data to tune the hyper-parameters (e.g., learning rate, and optimization algorithm)\n",
        "- Do NOT use test data for hyper-parameter tuning!!!\n",
        "- Try to achieve a validation accuracy as high as possible."
      ]
    },
    {
      "cell_type": "code",
      "execution_count": null,
      "metadata": {
        "colab": {
          "base_uri": "https://localhost:8080/"
        },
        "id": "J7jSeSmEfAmC",
        "outputId": "63873cb6-43a2-4162-d70e-f1f871ec06d4"
      },
      "outputs": [
        {
          "name": "stdout",
          "output_type": "stream",
          "text": [
            "Model: \"sequential\"\n",
            "_________________________________________________________________\n",
            " Layer (type)                Output Shape              Param #   \n",
            "=================================================================\n",
            " conv2d (Conv2D)             (None, 30, 30, 32)        896       \n",
            "                                                                 \n",
            " max_pooling2d (MaxPooling2D  (None, 15, 15, 32)       0         \n",
            " )                                                               \n",
            "                                                                 \n",
            " conv2d_1 (Conv2D)           (None, 12, 12, 64)        32832     \n",
            "                                                                 \n",
            " max_pooling2d_1 (MaxPooling  (None, 6, 6, 64)         0         \n",
            " 2D)                                                             \n",
            "                                                                 \n",
            " flatten (Flatten)           (None, 2304)              0         \n",
            "                                                                 \n",
            " dense (Dense)               (None, 256)               590080    \n",
            "                                                                 \n",
            " dense_1 (Dense)             (None, 10)                2570      \n",
            "                                                                 \n",
            "=================================================================\n",
            "Total params: 626,378\n",
            "Trainable params: 626,378\n",
            "Non-trainable params: 0\n",
            "_________________________________________________________________\n"
          ]
        }
      ],
      "source": [
        "# Build the model\n",
        "from keras.layers import Conv2D, MaxPooling2D, Flatten, Dense, Dropout, Activation, BatchNormalization\n",
        "from keras.models import Sequential\n",
        "\n",
        "model = Sequential()\n",
        "model.add(Conv2D(32, (3, 3), activation='relu', input_shape=(32, 32, 3)))\n",
        "model.add(MaxPooling2D((2, 2)))\n",
        "\n",
        "model.add(Conv2D(64, (4, 4), activation='relu'))\n",
        "model.add(MaxPooling2D((2, 2)))\n",
        "\n",
        "model.add(Flatten())\n",
        "model.add(Dense(256, activation='relu'))\n",
        "\n",
        "model.add(Dense(10, activation='softmax'))\n",
        "\n",
        "model.summary()"
      ]
    },
    {
      "cell_type": "code",
      "execution_count": null,
      "metadata": {
        "id": "O6m2RrKafAmC"
      },
      "outputs": [],
      "source": [
        "# Define model optimizer and loss function\n",
        "from tensorflow.keras import optimizers\n",
        "\n",
        "lr = 0.0001\n",
        "model.compile(loss='categorical_crossentropy', optimizer=optimizers.RMSprop(learning_rate = lr), metrics=['accuracy'])"
      ]
    },
    {
      "cell_type": "code",
      "execution_count": null,
      "metadata": {
        "colab": {
          "base_uri": "https://localhost:8080/"
        },
        "id": "j0945kBNfAmC",
        "outputId": "95597314-bcfb-4856-e936-9d220b0a70c8"
      },
      "outputs": [
        {
          "name": "stdout",
          "output_type": "stream",
          "text": [
            "Epoch 1/50\n",
            "313/313 [==============================] - 7s 6ms/step - loss: 1.9130 - accuracy: 0.3328 - val_loss: 1.7204 - val_accuracy: 0.3934\n",
            "Epoch 2/50\n",
            "313/313 [==============================] - 1s 4ms/step - loss: 1.6476 - accuracy: 0.4212 - val_loss: 1.6346 - val_accuracy: 0.4177\n",
            "Epoch 3/50\n",
            "313/313 [==============================] - 2s 5ms/step - loss: 1.5266 - accuracy: 0.4651 - val_loss: 1.4741 - val_accuracy: 0.4801\n",
            "Epoch 4/50\n",
            "313/313 [==============================] - 1s 4ms/step - loss: 1.4451 - accuracy: 0.4913 - val_loss: 1.3970 - val_accuracy: 0.5091\n",
            "Epoch 5/50\n",
            "313/313 [==============================] - 1s 4ms/step - loss: 1.3866 - accuracy: 0.5149 - val_loss: 1.4378 - val_accuracy: 0.4946\n",
            "Epoch 6/50\n",
            "313/313 [==============================] - 1s 4ms/step - loss: 1.3395 - accuracy: 0.5310 - val_loss: 1.3207 - val_accuracy: 0.5356\n",
            "Epoch 7/50\n",
            "313/313 [==============================] - 1s 4ms/step - loss: 1.3000 - accuracy: 0.5486 - val_loss: 1.3296 - val_accuracy: 0.5312\n",
            "Epoch 8/50\n",
            "313/313 [==============================] - 1s 4ms/step - loss: 1.2610 - accuracy: 0.5622 - val_loss: 1.2361 - val_accuracy: 0.5725\n",
            "Epoch 9/50\n",
            "313/313 [==============================] - 1s 4ms/step - loss: 1.2258 - accuracy: 0.5724 - val_loss: 1.2152 - val_accuracy: 0.5860\n",
            "Epoch 10/50\n",
            "313/313 [==============================] - 1s 4ms/step - loss: 1.1964 - accuracy: 0.5838 - val_loss: 1.2082 - val_accuracy: 0.5849\n",
            "Epoch 11/50\n",
            "313/313 [==============================] - 1s 4ms/step - loss: 1.1674 - accuracy: 0.5971 - val_loss: 1.1602 - val_accuracy: 0.5982\n",
            "Epoch 12/50\n",
            "313/313 [==============================] - 1s 4ms/step - loss: 1.1418 - accuracy: 0.6071 - val_loss: 1.1388 - val_accuracy: 0.6077\n",
            "Epoch 13/50\n",
            "313/313 [==============================] - 1s 4ms/step - loss: 1.1194 - accuracy: 0.6123 - val_loss: 1.1886 - val_accuracy: 0.5898\n",
            "Epoch 14/50\n",
            "313/313 [==============================] - 1s 4ms/step - loss: 1.0973 - accuracy: 0.6206 - val_loss: 1.1194 - val_accuracy: 0.6133\n",
            "Epoch 15/50\n",
            "313/313 [==============================] - 1s 4ms/step - loss: 1.0766 - accuracy: 0.6287 - val_loss: 1.1165 - val_accuracy: 0.6108\n",
            "Epoch 16/50\n",
            "313/313 [==============================] - 1s 4ms/step - loss: 1.0575 - accuracy: 0.6349 - val_loss: 1.1472 - val_accuracy: 0.6098\n",
            "Epoch 17/50\n",
            "313/313 [==============================] - 1s 4ms/step - loss: 1.0379 - accuracy: 0.6417 - val_loss: 1.0841 - val_accuracy: 0.6303\n",
            "Epoch 18/50\n",
            "313/313 [==============================] - 1s 4ms/step - loss: 1.0188 - accuracy: 0.6476 - val_loss: 1.0590 - val_accuracy: 0.6357\n",
            "Epoch 19/50\n",
            "313/313 [==============================] - 1s 4ms/step - loss: 1.0051 - accuracy: 0.6525 - val_loss: 1.0720 - val_accuracy: 0.6332\n",
            "Epoch 20/50\n",
            "313/313 [==============================] - 1s 4ms/step - loss: 0.9900 - accuracy: 0.6578 - val_loss: 1.0775 - val_accuracy: 0.6270\n",
            "Epoch 21/50\n",
            "313/313 [==============================] - 1s 4ms/step - loss: 0.9738 - accuracy: 0.6637 - val_loss: 1.0239 - val_accuracy: 0.6465\n",
            "Epoch 22/50\n",
            "313/313 [==============================] - 1s 4ms/step - loss: 0.9588 - accuracy: 0.6703 - val_loss: 1.0406 - val_accuracy: 0.6396\n",
            "Epoch 23/50\n",
            "313/313 [==============================] - 1s 4ms/step - loss: 0.9444 - accuracy: 0.6738 - val_loss: 1.0473 - val_accuracy: 0.6320\n",
            "Epoch 24/50\n",
            "313/313 [==============================] - 1s 4ms/step - loss: 0.9309 - accuracy: 0.6799 - val_loss: 1.0263 - val_accuracy: 0.6428\n",
            "Epoch 25/50\n",
            "313/313 [==============================] - 1s 4ms/step - loss: 0.9193 - accuracy: 0.6857 - val_loss: 1.0171 - val_accuracy: 0.6500\n",
            "Epoch 26/50\n",
            "313/313 [==============================] - 1s 4ms/step - loss: 0.9047 - accuracy: 0.6895 - val_loss: 0.9939 - val_accuracy: 0.6559\n",
            "Epoch 27/50\n",
            "313/313 [==============================] - 1s 4ms/step - loss: 0.8912 - accuracy: 0.6934 - val_loss: 1.0132 - val_accuracy: 0.6555\n",
            "Epoch 28/50\n",
            "313/313 [==============================] - 1s 4ms/step - loss: 0.8792 - accuracy: 0.6987 - val_loss: 0.9765 - val_accuracy: 0.6597\n",
            "Epoch 29/50\n",
            "313/313 [==============================] - 1s 4ms/step - loss: 0.8682 - accuracy: 0.7029 - val_loss: 1.0174 - val_accuracy: 0.6484\n",
            "Epoch 30/50\n",
            "313/313 [==============================] - 1s 4ms/step - loss: 0.8552 - accuracy: 0.7056 - val_loss: 0.9700 - val_accuracy: 0.6667\n",
            "Epoch 31/50\n",
            "313/313 [==============================] - 1s 4ms/step - loss: 0.8465 - accuracy: 0.7113 - val_loss: 0.9615 - val_accuracy: 0.6701\n",
            "Epoch 32/50\n",
            "313/313 [==============================] - 1s 5ms/step - loss: 0.8317 - accuracy: 0.7139 - val_loss: 0.9604 - val_accuracy: 0.6652\n",
            "Epoch 33/50\n",
            "313/313 [==============================] - 1s 5ms/step - loss: 0.8222 - accuracy: 0.7199 - val_loss: 0.9930 - val_accuracy: 0.6592\n",
            "Epoch 34/50\n",
            "313/313 [==============================] - 1s 4ms/step - loss: 0.8099 - accuracy: 0.7236 - val_loss: 1.0077 - val_accuracy: 0.6477\n",
            "Epoch 35/50\n",
            "313/313 [==============================] - 1s 4ms/step - loss: 0.8020 - accuracy: 0.7264 - val_loss: 0.9465 - val_accuracy: 0.6747\n",
            "Epoch 36/50\n",
            "313/313 [==============================] - 1s 4ms/step - loss: 0.7898 - accuracy: 0.7291 - val_loss: 0.9450 - val_accuracy: 0.6747\n",
            "Epoch 37/50\n",
            "313/313 [==============================] - 1s 4ms/step - loss: 0.7789 - accuracy: 0.7336 - val_loss: 0.9809 - val_accuracy: 0.6637\n",
            "Epoch 38/50\n",
            "313/313 [==============================] - 1s 4ms/step - loss: 0.7686 - accuracy: 0.7377 - val_loss: 0.9789 - val_accuracy: 0.6639\n",
            "Epoch 39/50\n",
            "313/313 [==============================] - 1s 4ms/step - loss: 0.7598 - accuracy: 0.7395 - val_loss: 0.9537 - val_accuracy: 0.6787\n",
            "Epoch 40/50\n",
            "313/313 [==============================] - 1s 4ms/step - loss: 0.7471 - accuracy: 0.7466 - val_loss: 0.9404 - val_accuracy: 0.6743\n",
            "Epoch 41/50\n",
            "313/313 [==============================] - 1s 4ms/step - loss: 0.7365 - accuracy: 0.7487 - val_loss: 0.9442 - val_accuracy: 0.6764\n",
            "Epoch 42/50\n",
            "313/313 [==============================] - 1s 4ms/step - loss: 0.7281 - accuracy: 0.7523 - val_loss: 0.9535 - val_accuracy: 0.6723\n",
            "Epoch 43/50\n",
            "313/313 [==============================] - 1s 4ms/step - loss: 0.7187 - accuracy: 0.7569 - val_loss: 0.9701 - val_accuracy: 0.6712\n",
            "Epoch 44/50\n",
            "313/313 [==============================] - 1s 4ms/step - loss: 0.7073 - accuracy: 0.7598 - val_loss: 0.9362 - val_accuracy: 0.6818\n",
            "Epoch 45/50\n",
            "313/313 [==============================] - 1s 4ms/step - loss: 0.6997 - accuracy: 0.7624 - val_loss: 0.9198 - val_accuracy: 0.6866\n",
            "Epoch 46/50\n",
            "313/313 [==============================] - 1s 4ms/step - loss: 0.6869 - accuracy: 0.7687 - val_loss: 0.9288 - val_accuracy: 0.6786\n",
            "Epoch 47/50\n",
            "313/313 [==============================] - 1s 4ms/step - loss: 0.6796 - accuracy: 0.7713 - val_loss: 0.9222 - val_accuracy: 0.6860\n",
            "Epoch 48/50\n",
            "313/313 [==============================] - 1s 4ms/step - loss: 0.6676 - accuracy: 0.7747 - val_loss: 0.9960 - val_accuracy: 0.6677\n",
            "Epoch 49/50\n",
            "313/313 [==============================] - 1s 4ms/step - loss: 0.6581 - accuracy: 0.7757 - val_loss: 0.9211 - val_accuracy: 0.6801\n",
            "Epoch 50/50\n",
            "313/313 [==============================] - 1s 4ms/step - loss: 0.6490 - accuracy: 0.7827 - val_loss: 1.0162 - val_accuracy: 0.6644\n"
          ]
        }
      ],
      "source": [
        "# Train the model and store model parameters/loss values\n",
        "model_1 = model.fit(x_tr, y_tr, batch_size=128, epochs=50, validation_data=(x_val, y_val))\n",
        "model.save('model_1.h5')"
      ]
    },
    {
      "cell_type": "markdown",
      "metadata": {
        "id": "EeV_9G3afAmD"
      },
      "source": [
        "## 3. Plot the training and validation loss curve versus epochs. (5 points)"
      ]
    },
    {
      "cell_type": "code",
      "execution_count": null,
      "metadata": {
        "colab": {
          "base_uri": "https://localhost:8080/"
        },
        "id": "XI1C67xikZDa",
        "outputId": "44ead6e5-448b-4a16-c65f-8c514515d116"
      },
      "outputs": [
        {
          "data": {
            "text/plain": [
              "dict_keys(['loss', 'accuracy', 'val_loss', 'val_accuracy'])"
            ]
          },
          "execution_count": 9,
          "metadata": {},
          "output_type": "execute_result"
        }
      ],
      "source": [
        "model_1.history.keys()"
      ]
    },
    {
      "cell_type": "code",
      "execution_count": null,
      "metadata": {
        "colab": {
          "base_uri": "https://localhost:8080/",
          "height": 279
        },
        "id": "cMJcNVJZfAmD",
        "outputId": "1a42cce8-b45f-4857-c813-92f61b897cbb"
      },
      "outputs": [
        {
          "data": {
            "image/png": "[encoded data removed]",
            "text/plain": [
              "<Figure size 640x480 with 1 Axes>"
            ]
          },
          "metadata": {},
          "output_type": "display_data"
        }
      ],
      "source": [
        "# Plot the loss curve\n",
        "\n",
        "import matplotlib.pyplot as plt\n",
        "#%matplotlib inline\n",
        "\n",
        "loss = model_1.history['loss']\n",
        "val_loss = model_1.history['val_loss']\n",
        "\n",
        "plt.xlabel('Epochs')\n",
        "plt.ylabel('Loss')\n",
        "\n",
        "epochs = range(len(loss))\n",
        "\n",
        "plt.plot(epochs, loss, 'red', label='Training loss')\n",
        "plt.plot(epochs, val_loss, 'green', label='Validation loss')\n",
        "\n",
        "plt.legend()\n",
        "plt.show()"
      ]
    },
    {
      "cell_type": "markdown",
      "metadata": {
        "id": "AyT-hyaRfAmD"
      },
      "source": [
        "## 4. Train (again) and evaluate the model (5 points)\n",
        "\n",
        "- To this end, you have found the \"best\" hyper-parameters. \n",
        "- Now, fix the hyper-parameters and train the network on the entire training set (all the 50K training samples)\n",
        "- Evaluate your model on the test set."
      ]
    },
    {
      "cell_type": "markdown",
      "metadata": {
        "id": "E4rL93azfAmD"
      },
      "source": [
        "### Train the model on the entire training set\n",
        "\n",
        "Why? Previously, you used 40K samples for training; you wasted 10K samples for the sake of hyper-parameter tuning. Now you already know the hyper-parameters, so why not using all the 50K samples for training?"
      ]
    },
    {
      "cell_type": "code",
      "execution_count": null,
      "metadata": {
        "id": "7-Ed-fZzfAmD"
      },
      "outputs": [],
      "source": [
        "#<Compile your model again (using the same hyper-parameters you tuned above)>\n",
        "model = Sequential()\n",
        "model.add(Conv2D(32, (3, 3), activation = 'relu', input_shape=(32, 32, 3)))\n",
        "\n",
        "model.add(MaxPooling2D((2, 2)))\n",
        "\n",
        "model.add(Conv2D(64, (4, 4), activation = 'relu'))\n",
        "\n",
        "model.add(MaxPooling2D((2, 2)))\n",
        "\n",
        "model.add(Flatten())\n",
        "model.add(Dense(256, activation = 'relu'))\n",
        "model.add(Dense(10, activation='softmax'))\n",
        "\n",
        "\n",
        "model.compile(loss='categorical_crossentropy', optimizer=optimizers.RMSprop(learning_rate = 0.0001) , metrics=['acc'])"
      ]
    },
    {
      "cell_type": "code",
      "execution_count": null,
      "metadata": {
        "colab": {
          "base_uri": "https://localhost:8080/"
        },
        "id": "y_s-BlXBfAmE",
        "outputId": "4fa138e3-af1c-423a-ba33-722963804d2e"
      },
      "outputs": [
        {
          "name": "stdout",
          "output_type": "stream",
          "text": [
            "Epoch 1/50\n",
            "391/391 [==============================] - 2s 4ms/step - loss: 1.8399 - acc: 0.3516\n",
            "Epoch 2/50\n",
            "391/391 [==============================] - 1s 4ms/step - loss: 1.5559 - acc: 0.4488\n",
            "Epoch 3/50\n",
            "391/391 [==============================] - 1s 4ms/step - loss: 1.4341 - acc: 0.4925\n",
            "Epoch 4/50\n",
            "391/391 [==============================] - 1s 4ms/step - loss: 1.3553 - acc: 0.5208\n",
            "Epoch 5/50\n",
            "391/391 [==============================] - 1s 4ms/step - loss: 1.2973 - acc: 0.5439\n",
            "Epoch 6/50\n",
            "391/391 [==============================] - 1s 4ms/step - loss: 1.2485 - acc: 0.5618\n",
            "Epoch 7/50\n",
            "391/391 [==============================] - 1s 4ms/step - loss: 1.2071 - acc: 0.5779\n",
            "Epoch 8/50\n",
            "391/391 [==============================] - 1s 4ms/step - loss: 1.1724 - acc: 0.5905\n",
            "Epoch 9/50\n",
            "391/391 [==============================] - 1s 4ms/step - loss: 1.1408 - acc: 0.6011\n",
            "Epoch 10/50\n",
            "391/391 [==============================] - 1s 4ms/step - loss: 1.1099 - acc: 0.6126\n",
            "Epoch 11/50\n",
            "391/391 [==============================] - 2s 4ms/step - loss: 1.0856 - acc: 0.6223\n",
            "Epoch 12/50\n",
            "391/391 [==============================] - 1s 4ms/step - loss: 1.0612 - acc: 0.6311\n",
            "Epoch 13/50\n",
            "391/391 [==============================] - 1s 4ms/step - loss: 1.0376 - acc: 0.6397\n",
            "Epoch 14/50\n",
            "391/391 [==============================] - 1s 4ms/step - loss: 1.0159 - acc: 0.6481\n",
            "Epoch 15/50\n",
            "391/391 [==============================] - 1s 4ms/step - loss: 0.9958 - acc: 0.6558\n",
            "Epoch 16/50\n",
            "391/391 [==============================] - 1s 4ms/step - loss: 0.9778 - acc: 0.6607\n",
            "Epoch 17/50\n",
            "391/391 [==============================] - 1s 4ms/step - loss: 0.9600 - acc: 0.6700\n",
            "Epoch 18/50\n",
            "391/391 [==============================] - 1s 4ms/step - loss: 0.9430 - acc: 0.6756\n",
            "Epoch 19/50\n",
            "391/391 [==============================] - 1s 4ms/step - loss: 0.9294 - acc: 0.6785\n",
            "Epoch 20/50\n",
            "391/391 [==============================] - 1s 4ms/step - loss: 0.9124 - acc: 0.6854\n",
            "Epoch 21/50\n",
            "391/391 [==============================] - 1s 4ms/step - loss: 0.8999 - acc: 0.6893\n",
            "Epoch 22/50\n",
            "391/391 [==============================] - 1s 4ms/step - loss: 0.8844 - acc: 0.6950\n",
            "Epoch 23/50\n",
            "391/391 [==============================] - 1s 4ms/step - loss: 0.8714 - acc: 0.7007\n",
            "Epoch 24/50\n",
            "391/391 [==============================] - 1s 4ms/step - loss: 0.8576 - acc: 0.7061\n",
            "Epoch 25/50\n",
            "391/391 [==============================] - 2s 4ms/step - loss: 0.8459 - acc: 0.7098\n",
            "Epoch 26/50\n",
            "391/391 [==============================] - 2s 4ms/step - loss: 0.8335 - acc: 0.7132\n",
            "Epoch 27/50\n",
            "391/391 [==============================] - 2s 4ms/step - loss: 0.8240 - acc: 0.7170\n",
            "Epoch 28/50\n",
            "391/391 [==============================] - 1s 4ms/step - loss: 0.8111 - acc: 0.7214\n",
            "Epoch 29/50\n",
            "391/391 [==============================] - 1s 4ms/step - loss: 0.7995 - acc: 0.7250\n",
            "Epoch 30/50\n",
            "391/391 [==============================] - 1s 4ms/step - loss: 0.7879 - acc: 0.7289\n",
            "Epoch 31/50\n",
            "391/391 [==============================] - 1s 4ms/step - loss: 0.7783 - acc: 0.7339\n",
            "Epoch 32/50\n",
            "391/391 [==============================] - 1s 4ms/step - loss: 0.7673 - acc: 0.7366\n",
            "Epoch 33/50\n",
            "391/391 [==============================] - 1s 4ms/step - loss: 0.7559 - acc: 0.7401\n",
            "Epoch 34/50\n",
            "391/391 [==============================] - 1s 4ms/step - loss: 0.7456 - acc: 0.7462\n",
            "Epoch 35/50\n",
            "391/391 [==============================] - 1s 4ms/step - loss: 0.7358 - acc: 0.7494\n",
            "Epoch 36/50\n",
            "391/391 [==============================] - 1s 4ms/step - loss: 0.7263 - acc: 0.7518\n",
            "Epoch 37/50\n",
            "391/391 [==============================] - 1s 4ms/step - loss: 0.7146 - acc: 0.7542\n",
            "Epoch 38/50\n",
            "391/391 [==============================] - 1s 4ms/step - loss: 0.7052 - acc: 0.7596\n",
            "Epoch 39/50\n",
            "391/391 [==============================] - 1s 4ms/step - loss: 0.6952 - acc: 0.7621\n",
            "Epoch 40/50\n",
            "391/391 [==============================] - 2s 4ms/step - loss: 0.6857 - acc: 0.7660\n",
            "Epoch 41/50\n",
            "391/391 [==============================] - 1s 4ms/step - loss: 0.6753 - acc: 0.7676\n",
            "Epoch 42/50\n",
            "391/391 [==============================] - 1s 4ms/step - loss: 0.6664 - acc: 0.7737\n",
            "Epoch 43/50\n",
            "391/391 [==============================] - 1s 4ms/step - loss: 0.6557 - acc: 0.7757\n",
            "Epoch 44/50\n",
            "391/391 [==============================] - 1s 4ms/step - loss: 0.6468 - acc: 0.7783\n",
            "Epoch 45/50\n",
            "391/391 [==============================] - 2s 4ms/step - loss: 0.6376 - acc: 0.7829\n",
            "Epoch 46/50\n",
            "391/391 [==============================] - 2s 4ms/step - loss: 0.6297 - acc: 0.7843\n",
            "Epoch 47/50\n",
            "391/391 [==============================] - 1s 4ms/step - loss: 0.6200 - acc: 0.7889\n",
            "Epoch 48/50\n",
            "391/391 [==============================] - 1s 4ms/step - loss: 0.6104 - acc: 0.7924\n",
            "Epoch 49/50\n",
            "391/391 [==============================] - 1s 4ms/step - loss: 0.6030 - acc: 0.7946\n",
            "Epoch 50/50\n",
            "391/391 [==============================] - 1s 4ms/step - loss: 0.5915 - acc: 0.7996\n"
          ]
        }
      ],
      "source": [
        "#<Train your model on the entire training set (50K samples)>\n",
        "model_2 = model.fit(x_train, y_train_vec, batch_size=128, epochs=50)\n",
        "model.save('model_2.h5')"
      ]
    },
    {
      "cell_type": "markdown",
      "metadata": {
        "id": "1FmKUnvnfAmE"
      },
      "source": [
        "## 5. Evaluate the model on the test set (5 points)\n",
        "\n",
        "Do NOT use the test set until now. Make sure that your model parameters and hyper-parameters are independent of the test set."
      ]
    },
    {
      "cell_type": "code",
      "execution_count": null,
      "metadata": {
        "colab": {
          "base_uri": "https://localhost:8080/"
        },
        "id": "6xoyIstfpdsb",
        "outputId": "dca18137-653a-4692-ff9a-8041116c0565"
      },
      "outputs": [
        {
          "name": "stdout",
          "output_type": "stream",
          "text": [
            "313/313 [==============================] - 1s 2ms/step - loss: 1.0277 - accuracy: 0.6602\n",
            "loss = 1.0277191400527954\n",
            "accuracy = 0.6601999998092651\n"
          ]
        }
      ],
      "source": [
        "from keras.models import load_model\n",
        "\n",
        "current_model = load_model('model_1.h5')\n",
        "Current_acc = current_model.evaluate(x_test, y_test_vec)\n",
        "print('loss = ' + str(Current_acc[0]))\n",
        "print('accuracy = ' + str(Current_acc[1]))"
      ]
    },
    {
      "cell_type": "code",
      "execution_count": null,
      "metadata": {
        "colab": {
          "base_uri": "https://localhost:8080/"
        },
        "id": "oB-S6UEAfAmE",
        "outputId": "dde13488-f7db-460c-d69e-af0c0dccb4c9"
      },
      "outputs": [
        {
          "name": "stdout",
          "output_type": "stream",
          "text": [
            "313/313 [==============================] - 1s 2ms/step - loss: 0.8680 - acc: 0.7045\n",
            "loss = 0.8679858446121216\n",
            "accuracy = 0.7045000195503235\n"
          ]
        }
      ],
      "source": [
        "current_model = load_model('model_2.h5')\n",
        "Current_acc = current_model.evaluate(x_test, y_test_vec)\n",
        "print('loss = ' + str(Current_acc[0]))\n",
        "print('accuracy = ' + str(Current_acc[1]))"
      ]
    }
  ],
  "metadata": {
    "accelerator": "GPU",
    "colab": {
      "provenance": []
    },
    "gpuClass": "standard",
    "kernelspec": {
      "display_name": "tf",
      "language": "python",
      "name": "tf"
    },
    "language_info": {
      "codemirror_mode": {
        "name": "ipython",
        "version": 3
      },
      "file_extension": ".py",
      "mimetype": "text/x-python",
      "name": "python",
      "nbconvert_exporter": "python",
      "pygments_lexer": "ipython3",
      "version": "3.7.15"
    }
  },
  "nbformat": 4,
  "nbformat_minor": 0
}